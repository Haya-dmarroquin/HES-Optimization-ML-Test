{
 "cells": [
  {
   "cell_type": "markdown",
   "metadata": {},
   "source": [
    "# Followup Optimization"
   ]
  },
  {
   "cell_type": "markdown",
   "metadata": {},
   "source": [
    "Here, we will work through an optimization problem using a library in order to see how you work. You are allowed to use any resource that would be available to you in real life"
   ]
  },
  {
   "cell_type": "markdown",
   "metadata": {},
   "source": [
    "Maximize 20x_1 + 12x_2 + 40x_3 + 25x_4\n",
    "\n",
    "subject to:\n",
    "\n",
    "x_1 + x_2 + x_3 + x_4 <= 50\n",
    "\n",
    "3x_1 + 2x_2 + x_3 <= 100\n",
    "\n",
    "x_2 + 2x_3 + 3x_4 <= 90\n",
    "\n",
    "x_1, x_2, x_3, x_4 >= 0"
   ]
  },
  {
   "cell_type": "code",
   "execution_count": 35,
   "metadata": {},
   "outputs": [],
   "source": [
    "import numpy as np\n",
    "import scipy as sp\n",
    "from scipy.optimize import minimize"
   ]
  },
  {
   "cell_type": "code",
   "execution_count": 36,
   "metadata": {},
   "outputs": [],
   "source": [
    "def f(x):\n",
    "    return -(20*x[0] + 12*x[1] + 40*x[2] + 25*x[3])\n",
    "\n",
    "cons = ({'type': 'ineq', 'fun': lambda x: -(x[0] + x[1] + x[2] + x[3]) + 50},\n",
    "        {'type': 'ineq', 'fun': lambda x: (3*x[0] + 2*x[1] + x[2]) + 100},\n",
    "        {'type': 'ineq', 'fun': lambda x: -(x[1] + 2*x[2] + 3*x[3]) + 90}\n",
    "       )\n",
    "\n",
    "bnds = ((0, None), (0, None), (0, None), (0, None))"
   ]
  },
  {
   "cell_type": "code",
   "execution_count": 37,
   "metadata": {},
   "outputs": [
    {
     "name": "stdout",
     "output_type": "stream",
     "text": [
      "Máximo de la función en las coordenadas (5.000000000053294, 9.890682116051907e-12, 45.00000000019, 4.630340555422663e-11)\n"
     ]
    }
   ],
   "source": [
    "res = minimize(f, (0, 0, 0, 0), bounds=bnds, constraints=cons)\n",
    "print(f\"Máximo de la función en las coordenadas {res.x[0], res.x[1], res.x[2], res.x[3]}\")"
   ]
  },
  {
   "cell_type": "code",
   "execution_count": null,
   "metadata": {},
   "outputs": [],
   "source": []
  }
 ],
 "metadata": {
  "kernelspec": {
   "display_name": "Python 3 (ipykernel)",
   "language": "python",
   "name": "python3"
  },
  "language_info": {
   "codemirror_mode": {
    "name": "ipython",
    "version": 3
   },
   "file_extension": ".py",
   "mimetype": "text/x-python",
   "name": "python",
   "nbconvert_exporter": "python",
   "pygments_lexer": "ipython3",
   "version": "3.11.7"
  }
 },
 "nbformat": 4,
 "nbformat_minor": 4
}
