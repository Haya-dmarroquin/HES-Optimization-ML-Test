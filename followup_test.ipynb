{
 "cells": [
  {
   "cell_type": "markdown",
   "metadata": {},
   "source": [
    "# Followup Optimization"
   ]
  },
  {
   "cell_type": "markdown",
   "metadata": {},
   "source": [
    "Here, we will work through an optimization problem using a library in order to see how you work. You are allowed to use any resource that would be available to you in real life"
   ]
  },
  {
   "cell_type": "markdown",
   "metadata": {},
   "source": [
    "Maximize 20x_1 + 12x_2 + 40x_3 + 25x_4\n",
    "\n",
    "subject to:\n",
    "\n",
    "x_1 + x_2 + x_3 + x_4 <= 50\n",
    "\n",
    "3x_1 + 2x_2 + x_3 <= 100\n",
    "\n",
    "x_2 + 2x_3 + 3x_4 <= 90\n",
    "\n",
    "x_1, x_2, x_3, x_4 >= 0"
   ]
  },
  {
   "cell_type": "code",
   "execution_count": null,
   "metadata": {},
   "outputs": [],
   "source": []
  }
 ],
 "metadata": {
  "language_info": {
   "name": "python"
  }
 },
 "nbformat": 4,
 "nbformat_minor": 2
}
