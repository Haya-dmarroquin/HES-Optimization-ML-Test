{
  "cells": [
    {
      "cell_type": "markdown",
      "metadata": {
        "id": "oO83HPbT1o3M"
      },
      "source": [
        "# HES ML and Optimization Test"
      ]
    },
    {
      "cell_type": "markdown",
      "metadata": {
        "id": "9H9DwPLC1o3O"
      },
      "source": [
        "This is a short test to clarify to us your understanding of Github, Python environments, Machine Learning and Optimization. You will need to create a virtual environment and import your modules for this test.\n",
        "\n",
        "For each exercise, write code to  solve each problem and write your thoughts on the solutions. You do not need finish this test. You will not be graded on the completion of this test. To be clear, while we cannot stop you from using ChatGPT, we are not looking for completion of the problem, but understanding of why and how to apply the knowledge. To that end, annotate your code well and after each code cell, please add a short description of your process and, if you cannot finish the problem, how you would go about solving it.\n",
        "\n",
        "You have 50 minutes."
      ]
    },
    {
      "cell_type": "code",
      "execution_count": null,
      "metadata": {
        "id": "ySr5CgSA1o3O"
      },
      "outputs": [],
      "source": [
        "# A hint of the libraries you may need to use. You may edit these to import specific modules from each library\n",
        "import pandas as pd\n",
        "import numpy as np\n",
        "import seaborn as sns\n",
        "import matplotlib.pyplot as plt\n",
        "import datetime\n",
        "import sklearn\n",
        "import scipy"
      ]
    },
    {
      "cell_type": "markdown",
      "metadata": {
        "id": "vM2lCKkR1o3P"
      },
      "source": [
        "## Optimization"
      ]
    },
    {
      "cell_type": "markdown",
      "metadata": {
        "id": "IWuIrx961o3P"
      },
      "source": [
        "Solve the following problem in python:\n",
        "\n",
        "Maximize z = 2x + 3y\n",
        "\n",
        "subject to:\n",
        "\n",
        "x + y <= 10\n",
        "\n",
        "2x - y >= 0\n",
        "\n",
        "x, y >= 0\n",
        "\n",
        "You should not need to use any libraries to solve this problem."
      ]
    },
    {
      "cell_type": "code",
      "execution_count": 4,
      "metadata": {
        "id": "AnOaVdYA1o3Q",
        "outputId": "da696db6-2c3d-451d-d8d4-8cbb9a70f407",
        "colab": {
          "base_uri": "https://localhost:8080/"
        }
      },
      "outputs": [
        {
          "output_type": "stream",
          "name": "stdout",
          "text": [
            "The maximum value that z can take in this problem is 26.666666666666668 at coordinates x = 3.3333333333333335, y = 6.666666666666667\n"
          ]
        }
      ],
      "source": [
        "def maximize_function():\n",
        "    # Main function info\n",
        "    x_coefficient = 2\n",
        "    y_coefficient = 3\n",
        "\n",
        "    # First constraint info\n",
        "    x_coefficient_constraint1 = 1\n",
        "    y_coefficient_constraint1 = 1\n",
        "    rhs_constraint1 = 10\n",
        "\n",
        "    # Second constraint info\n",
        "    x_coefficient_constraint2 = 2\n",
        "    y_coefficient_constraint2 = -1\n",
        "    rhs_constraint2 = 0\n",
        "\n",
        "    # Calculate intersection points of the two constraints\n",
        "    intersection_x = (rhs_constraint1 * y_coefficient_constraint2 - rhs_constraint2 * y_coefficient_constraint1) / (\n",
        "            x_coefficient_constraint1 * y_coefficient_constraint2 - x_coefficient_constraint2 * y_coefficient_constraint1)\n",
        "    intersection_y = (rhs_constraint2 * x_coefficient_constraint1 - rhs_constraint1 * x_coefficient_constraint2) / (\n",
        "            x_coefficient_constraint1 * y_coefficient_constraint2 - x_coefficient_constraint2 * y_coefficient_constraint1)\n",
        "\n",
        "    # Check if x, y >= 0 (Third constraint)\n",
        "    if intersection_x >= 0 and intersection_y >= 0:\n",
        "        solution = x_coefficient * intersection_x + y_coefficient * intersection_y\n",
        "        return f\"The maximum value that z can take in this problem is {solution} at coordinates x = {intersection_x}, y = {intersection_y}\"\n",
        "    else:\n",
        "        return \"There is no solution\"\n",
        "\n",
        "print(maximize_function())\n"
      ]
    },
    {
      "cell_type": "markdown",
      "metadata": {
        "id": "8IuMxRT71o3Q"
      },
      "source": [
        "Please name a possible library for optimization in Python, either by importing it or by typing it in a markdown cell"
      ]
    },
    {
      "cell_type": "code",
      "execution_count": 6,
      "metadata": {
        "id": "BlVCA1Gv1o3Q"
      },
      "outputs": [],
      "source": [
        "# To deal with an optimization problem, I would say that the best library is ScyPy. It is undoubtedly one of the most used libraries in the scientific/mathematical field (among others).\n",
        "# Apart from optimization, it has many more functions, and added to its great ease of use and flexibility, I would opt for this one without a doubt.\n",
        "\n",
        "from scipy.optimize import minimize # (or import scipy)"
      ]
    },
    {
      "cell_type": "markdown",
      "metadata": {
        "id": "i8Dmrei61o3Q"
      },
      "source": [
        "## Machine Learning"
      ]
    },
    {
      "cell_type": "markdown",
      "metadata": {
        "id": "w2s6jBjA1o3Q"
      },
      "source": [
        "For this section, you will need to predict the hourly (marginal) price of **Spanish** energy for a minimum of one day according to the provoded publically available data. For a hint, do the following:\n",
        "\n",
        "1. Import the data provided\n",
        "2. Clean/Explore the data\n",
        "3. Visualize the data\n",
        "4. Implement a machine learning model and explain why you would use that model\n",
        "\n",
        "If at any point you cannot accomplish one of the bullet points through code, simply explain what you think you need to do to the best of your ability\n",
        "\n",
        "At the end, give your thoughts on what you could do to improve the model."
      ]
    },
    {
      "cell_type": "code",
      "execution_count": 18,
      "metadata": {
        "id": "VD6dzlHU1o3Q",
        "outputId": "5caf4002-2858-4627-ec00-5b759fc61bd7",
        "colab": {
          "base_uri": "https://localhost:8080/"
        }
      },
      "outputs": [
        {
          "output_type": "stream",
          "name": "stdout",
          "text": [
            "   Unnamed: 0 Unnamed: 1                                     Unnamed: 2.1  \\\n",
            "0       Fecha       Hora  Precio marginal en el sistema español (EUR/MWh)   \n",
            "1  06/03/2024          1                                            71,00   \n",
            "2  06/03/2024          2                                            50,50   \n",
            "3  06/03/2024          3                                            50,51   \n",
            "4  06/03/2024          4                                            50,01   \n",
            "\n",
            "                      OMIE - Mercado de electricidad  \\\n",
            "0  Precio marginal en el sistema portugués (EUR/MWh)   \n",
            "1                                              71,00   \n",
            "2                                              50,50   \n",
            "3                                              50,51   \n",
            "4                                              50,01   \n",
            "\n",
            "               Fecha Emisión :05/03/2024 - 13:55  \\\n",
            "0  Energía total de compra sistema español (MWh)   \n",
            "1                                        15586,0   \n",
            "2                                        14183,7   \n",
            "3                                        16910,1   \n",
            "4                                        16654,7   \n",
            "\n",
            "                                     Unnamed: 2  \\\n",
            "0  Energía total de venta sistema español (MWh)   \n",
            "1                                       13436,3   \n",
            "2                                       12571,4   \n",
            "3                                       15723,5   \n",
            "4                                       15413,1   \n",
            "\n",
            "                                        06/03/2024  \\\n",
            "0  Energía total de compra sistema portugués (MWh)   \n",
            "1                                           6108,7   \n",
            "2                                           5605,9   \n",
            "3                                           5196,9   \n",
            "4                                           4971,1   \n",
            "\n",
            "           Precios y volúmenes del mercado diario  \\\n",
            "0  Energía total de venta sistema portugués (MWh)   \n",
            "1                                          8277,1   \n",
            "2                                          7918,2   \n",
            "3                                          7083,5   \n",
            "4                                          6912,7   \n",
            "\n",
            "                                          Unnamed: 5  \\\n",
            "0  Energía total de compra del mercado Ibérico (MWh)   \n",
            "1                                            21694,7   \n",
            "2                                            19789,6   \n",
            "3                                            22107,0   \n",
            "4                                            21625,8   \n",
            "\n",
            "                                         Unnamed: 6  \\\n",
            "0  Energía total de venta del mercado Ibérico (MWh)   \n",
            "1                                           21713,4   \n",
            "2                                           20489,6   \n",
            "3                                           22807,0   \n",
            "4                                           22325,8   \n",
            "\n",
            "                                          Unnamed: 7  Unnamed: 8  \n",
            "0  Energía total con bilaterales del mercado Ibér...         NaN  \n",
            "1                                            31072,9         NaN  \n",
            "2                                            29188,8         NaN  \n",
            "3                                            27830,4         NaN  \n",
            "4                                            27173,3         NaN  \n"
          ]
        }
      ],
      "source": [
        "# import pandas as pd (already imported from above)\n",
        "\n",
        "url = \"https://raw.githubusercontent.com/Haya-dmarroquin/HES-Optimization-ML-Test/main/data.csv\"\n",
        "df = pd.read_csv(url)\n",
        "print(df.head())\n",
        "\n"
      ]
    },
    {
      "cell_type": "code",
      "execution_count": 17,
      "metadata": {
        "id": "oubPzHwl1o3Q",
        "outputId": "b6cd5283-ba6b-4379-b9b4-47f80c73c1fe",
        "colab": {
          "base_uri": "https://localhost:8080/"
        }
      },
      "outputs": [
        {
          "output_type": "stream",
          "name": "stdout",
          "text": [
            "Unnamed: 0                                0.0\n",
            "Unnamed: 1                                0.0\n",
            "Unnamed: 2.1                              0.0\n",
            "OMIE - Mercado de electricidad            0.0\n",
            "Fecha Emisión :05/03/2024 - 13:55         0.0\n",
            "Unnamed: 2                                0.0\n",
            "06/03/2024                                0.0\n",
            "Precios y volúmenes del mercado diario    0.0\n",
            "Unnamed: 5                                0.0\n",
            "Unnamed: 6                                0.0\n",
            "Unnamed: 7                                0.0\n",
            "Unnamed: 8                                0.0\n",
            "dtype: float64\n",
            "\n",
            "\n"
          ]
        }
      ],
      "source": [
        "# Check if there is missing data\n",
        "print(df.isnull().sum())\n",
        "# Delete rows with missing values\n",
        "df.dropna(inplace=True)"
      ]
    },
    {
      "cell_type": "code",
      "execution_count": 20,
      "metadata": {
        "id": "t2OE11Xi1o3Q"
      },
      "outputs": [],
      "source": [
        "# import matplotlib.pyplot as plt (already imported from above)\n",
        "\n",
        "# I have run out of time to continue with the problem. Now what I would do is visualize the important data using a matplotlib graph.\n",
        "\n",
        "\n",
        "\n",
        "# I have never implemented a machine learning model, but taking into account that you make the Scikit Learn library available to me,\n",
        "# I would investigate how to use it to predict what you ask for, and I am sure that with more time I could have solved the problem completely.\n"
      ]
    }
  ],
  "metadata": {
    "kernelspec": {
      "display_name": "venv",
      "language": "python",
      "name": "python3"
    },
    "language_info": {
      "codemirror_mode": {
        "name": "ipython",
        "version": 3
      },
      "file_extension": ".py",
      "mimetype": "text/x-python",
      "name": "python",
      "nbconvert_exporter": "python",
      "pygments_lexer": "ipython3",
      "version": "3.11.8"
    },
    "colab": {
      "provenance": []
    }
  },
  "nbformat": 4,
  "nbformat_minor": 0
}