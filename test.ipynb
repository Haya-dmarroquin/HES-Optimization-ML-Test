{
 "cells": [
  {
   "cell_type": "markdown",
   "metadata": {},
   "source": [
    "# HES ML and Optimization Test"
   ]
  },
  {
   "cell_type": "markdown",
   "metadata": {},
   "source": [
    "This is a short test to clarify to us your understanding of Github, Python environments, Machine Learning and Optimization. You will need to create a virtual environment and import your modules for this test. \n",
    "\n",
    "For each exercise, write code to  solve each problem and write your thoughts on the solutions. You do not need finish this test. You will not be graded on the completion of this test. To be clear, while we cannot stop you from using ChatGPT, we are not looking for completion of the problem, but understanding of why and how to apply the knowledge. To that end, annotate your code well and after each code cell, please add a short description of your process and, if you cannot finish the problem, how you would go about solving it."
   ]
  },
  {
   "cell_type": "code",
   "execution_count": 18,
   "metadata": {},
   "outputs": [],
   "source": [
    "# A hint of the libraries you may need to use. You may edit these to import specific modules from each library\n",
    "import pandas as pd\n",
    "import numpy as np\n",
    "import seaborn as sns\n",
    "import matplotlib.pyplot as plt\n",
    "import datetime\n",
    "import sklearn\n",
    "import scipy"
   ]
  },
  {
   "cell_type": "markdown",
   "metadata": {},
   "source": [
    "## Optimization"
   ]
  },
  {
   "cell_type": "markdown",
   "metadata": {},
   "source": [
    "Solve the following problem in python:\n",
    "\n",
    "Maximize z = 2x + 3y\n",
    "\n",
    "subject to:\n",
    "\n",
    "x + y <= 10\n",
    "\n",
    "2x - y >= 0\n",
    "\n",
    "x, y >= 0\n",
    "\n",
    "You should not need to use any libraries to solve this problem."
   ]
  },
  {
   "cell_type": "code",
   "execution_count": null,
   "metadata": {},
   "outputs": [],
   "source": []
  },
  {
   "cell_type": "markdown",
   "metadata": {},
   "source": [
    "Please name a possible library for optimization in Python, either by importing it or by typing it in a markdown cell"
   ]
  },
  {
   "cell_type": "code",
   "execution_count": null,
   "metadata": {},
   "outputs": [],
   "source": []
  },
  {
   "cell_type": "markdown",
   "metadata": {},
   "source": [
    "## Machine Learning"
   ]
  },
  {
   "cell_type": "markdown",
   "metadata": {},
   "source": [
    "For this section, you will need to predict the hourly (marginal) price of **Spanish** energy for a minimum of one day according to the provoded publically available data. For a hint, do the following:\n",
    "\n",
    "1. Import the data provided\n",
    "2. Clean/Explore the data\n",
    "3. Visualize the data\n",
    "4. Implement a machine learning model and explain why you would use that model\n",
    "\n",
    "If at any point you cannot accomplish one of the bullet points through code, simply explain what you think you need to do to the best of your ability\n",
    "\n",
    "At the end, give your thoughts on what you could do to improve the model. "
   ]
  },
  {
   "cell_type": "code",
   "execution_count": null,
   "metadata": {},
   "outputs": [],
   "source": []
  },
  {
   "cell_type": "code",
   "execution_count": null,
   "metadata": {},
   "outputs": [],
   "source": []
  },
  {
   "cell_type": "code",
   "execution_count": null,
   "metadata": {},
   "outputs": [],
   "source": []
  }
 ],
 "metadata": {
  "kernelspec": {
   "display_name": "venv",
   "language": "python",
   "name": "python3"
  },
  "language_info": {
   "codemirror_mode": {
    "name": "ipython",
    "version": 3
   },
   "file_extension": ".py",
   "mimetype": "text/x-python",
   "name": "python",
   "nbconvert_exporter": "python",
   "pygments_lexer": "ipython3",
   "version": "3.11.8"
  }
 },
 "nbformat": 4,
 "nbformat_minor": 2
}
